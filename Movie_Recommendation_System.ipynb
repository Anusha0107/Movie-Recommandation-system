{
  "nbformat": 4,
  "nbformat_minor": 0,
  "metadata": {
    "colab": {
      "provenance": []
    },
    "kernelspec": {
      "name": "python3",
      "display_name": "Python 3"
    },
    "language_info": {
      "name": "python"
    }
  },
  "cells": [
    {
      "cell_type": "code",
      "source": [
        "# import Libraries\n",
        "import pandas as pd\n",
        "from sklearn.feature_extraction.text import TfidfVectorizer\n",
        "from sklearn.metrics.pairwise import cosine_similarity\n",
        "from IPython.display import display, HTML\n",
        "\n",
        "# Step 2: Telugu Movie Dataset (With image URLs)\n",
        "data = {\n",
        "    'title': [\n",
        "        'Bahubali',\n",
        "        'Magadheera',\n",
        "        'Arjun Reddy',\n",
        "        'Jersey',\n",
        "        'Pushpa',\n",
        "        'Eega',\n",
        "        'Ala vaikuntapurramlo',\n",
        "        'Sita Ramam'\n",
        "    ],\n",
        "    'description': [\n",
        "        'An epic story of a lost prince who returns to claim his kingdom.',\n",
        "        'A warrior’s soul travels through time to protect his love.',\n",
        "        'A brilliant surgeon struggles with heartbreak and addiction.',\n",
        "        'A failed cricketer attempts a comeback in his 30s for his son.',\n",
        "        'A red sandalwood smuggler rises in the world of crime.',\n",
        "        'A man reincarnates as a housefly to take revenge.',\n",
        "        'A middle-class man discovers his real father is a billionaire.',\n",
        "        'A beautiful love story between a soldier and a mysterious girl.'\n",
        "    ],\n",
        "    'image_url': [\n",
        "        'https://upload.wikimedia.org/wikipedia/en/9/93/Baahubali_2_The_Conclusion_poster.jpg',\n",
        "        'https://encrypted-tbn0.gstatic.com/images?q=tbn:ANd9GcRH1Agl1xfrqTCAQtOz0trNy_zey_qNb2Mfhw&s',\n",
        "        'https://encrypted-tbn0.gstatic.com/images?q=tbn:ANd9GcSj7qS4HyAJMSoN7v-LN94Z9FRjihjoTVxkZQ&s',\n",
        "        'https://encrypted-tbn0.gstatic.com/images?q=tbn:ANd9GcTLlw8baHHCHmyep0kkb3QzWUqzeR22-4EY2A&s',\n",
        "        'https://encrypted-tbn0.gstatic.com/images?q=tbn:ANd9GcQq5IPZvHFhmkWBIUZe0RN_DTaKtFZ1tV3K_Q&s',\n",
        "        'https://encrypted-tbn0.gstatic.com/images?q=tbn:ANd9GcQ9iYzApvIl9E02liC0jbhpUuxh-Vh2ZkZ7Pw&s',\n",
        "        'https://encrypted-tbn0.gstatic.com/images?q=tbn:ANd9GcTPxE543KQv15EoJr_a5r8YYh5Z0ErVWnN9_g&s',\n",
        "        'https://encrypted-tbn0.gstatic.com/images?q=tbn:ANd9GcQzfEbvajCJHnri0mt9diObUvxGkKQMu2ar4A&s',\n",
        "    ]\n",
        "}\n",
        "\n",
        "df = pd.DataFrame(data)\n",
        "\n",
        "# Step 3: Text Vectorization using TF-IDF\n",
        "vectorizer = TfidfVectorizer(stop_words='english')\n",
        "tfidf_matrix = vectorizer.fit_transform(df['description'])\n",
        "\n",
        "# Step 4: Cosine Similarity\n",
        "similarity = cosine_similarity(tfidf_matrix, tfidf_matrix)\n",
        "\n",
        "# Step 5: Recommendation Function\n",
        "def recommend(movie_title, top_n=5):\n",
        "    if movie_title not in df['title'].values:\n",
        "        return \"❌ Movie not found in the database. Please try another Telugu movie.\"\n",
        "\n",
        "    idx = df[df['title'] == movie_title].index[0]\n",
        "    scores = list(enumerate(similarity[idx]))\n",
        "    scores = sorted(scores, key=lambda x: x[1], reverse=True)\n",
        "    recommended_indices = [i[0] for i in scores[1:top_n+1]]\n",
        "\n",
        "    selected_movie = df.iloc[idx]\n",
        "    result = df[['title', 'image_url']].iloc[recommended_indices]\n",
        "    return selected_movie, result\n",
        "\n",
        "# Step 6: Run Recommendation\n",
        "movie_to_search = input(\"🎬 Enter a Telugu movie name: \")\n",
        "output = recommend(movie_to_search)\n",
        "\n",
        "# Step 7: Display Results with HTML\n",
        "if isinstance(output, str):\n",
        "    print(output)\n",
        "else:\n",
        "    selected_movie, recommendations = output\n",
        "\n",
        "    display(HTML(f\"\"\"\n",
        "        <h2>🎬 Selected Movie: {selected_movie['title']}</h2>\n",
        "        <img src=\"{selected_movie['image_url']}\" width=\"1000\"><br><br>\n",
        "        <h3>📽 If you liked this movie, you might also enjoy:</h3>\n",
        "        <ul>\n",
        "            {''.join([f'<li><a href=\"{row[\"image_url\"]}\" target=\"_blank\">{row[\"title\"]}</a></li>' for idx, row in recommendations.iterrows()])}\n",
        "        </ul>\n",
        "    \"\"\"))"
      ],
      "metadata": {
        "colab": {
          "base_uri": "https://localhost:8080/",
          "height": 1000
        },
        "id": "YNwAsGSXTW87",
        "outputId": "acc1d271-da54-46d9-be14-8c7244f68a5b"
      },
      "execution_count": 6,
      "outputs": [
        {
          "name": "stdout",
          "output_type": "stream",
          "text": [
            "🎬 Enter a Telugu movie name: Sita Ramam\n"
          ]
        },
        {
          "output_type": "display_data",
          "data": {
            "text/plain": [
              "<IPython.core.display.HTML object>"
            ],
            "text/html": [
              "\n",
              "        <h2>🎬 Selected Movie: Sita Ramam</h2>\n",
              "        <img src=\"https://encrypted-tbn0.gstatic.com/images?q=tbn:ANd9GcQzfEbvajCJHnri0mt9diObUvxGkKQMu2ar4A&s\" width=\"1000\"><br><br>\n",
              "        <h3>📽 If you liked this movie, you might also enjoy:</h3>\n",
              "        <ul>\n",
              "            <li><a href=\"https://encrypted-tbn0.gstatic.com/images?q=tbn:ANd9GcRH1Agl1xfrqTCAQtOz0trNy_zey_qNb2Mfhw&s\" target=\"_blank\">Magadheera</a></li><li><a href=\"https://upload.wikimedia.org/wikipedia/en/9/93/Baahubali_2_The_Conclusion_poster.jpg\" target=\"_blank\">Bahubali</a></li><li><a href=\"https://encrypted-tbn0.gstatic.com/images?q=tbn:ANd9GcSj7qS4HyAJMSoN7v-LN94Z9FRjihjoTVxkZQ&s\" target=\"_blank\">Arjun Reddy</a></li><li><a href=\"https://encrypted-tbn0.gstatic.com/images?q=tbn:ANd9GcTLlw8baHHCHmyep0kkb3QzWUqzeR22-4EY2A&s\" target=\"_blank\">Jersey</a></li><li><a href=\"https://encrypted-tbn0.gstatic.com/images?q=tbn:ANd9GcQq5IPZvHFhmkWBIUZe0RN_DTaKtFZ1tV3K_Q&s\" target=\"_blank\">Pushpa</a></li>\n",
              "        </ul>\n",
              "    "
            ]
          },
          "metadata": {}
        }
      ]
    }
  ]
}